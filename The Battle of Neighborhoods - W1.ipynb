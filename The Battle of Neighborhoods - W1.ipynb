{
 "cells": [
  {
   "cell_type": "markdown",
   "metadata": {},
   "source": [
    "# Peer-graded Assignment: Capstone Project \n",
    "## The Battle of Neighborhoods (Week 1)"
   ]
  },
  {
   "cell_type": "markdown",
   "metadata": {},
   "source": [
    "Using Machine Learning to find locations to open a Burmese Restaurant\n",
    "Usman Aslam (https://github.com/MeUsmanAslam)\n",
    "\n",
    "# Introduction\n",
    "\n",
    "## Background\n",
    "\n",
    "For this Capstone project, I am creating a hypothetical scenario for a concept Burmese restaurateur who wants to explore opening an authentic Burmese restaurant in Toronto area. The idea behind this project is that there may not be enough Burmese restaurants in Toronto and it might present a great opportunity for this entrepreneur who is based in Canada. As Burmese food is very similar to other Asian cuisines, this entrepreneur is thinking of opening this restaurant in locations where Asian food is popular (aka many Asian restaurants in the neighborhood). With the purpose in mind, finding the location to open such a restaurant is one of the most important decisions for this entrepreneur and I am designing this project to help him find the most suitable location.\n",
    "\n",
    "## Business Problem\n",
    "\n",
    "The objective of this capstone project is to find the most suitable location for the entrepreneur to open a new Burmese restaurant in Toronto, Canada. By using data science methods and machine learning methods such as clustering, this project aims to provide solutions to answer the business question: In Toronto, if an entrepreneur wants to open a Burmese restaurant, where should they consider opening it?\n",
    "\n",
    "## Target Audience\n",
    "\n",
    "The entrepreneur who wants to find the location to open authentic Burmese restaurant\n",
    "\n",
    "### Data\n",
    "\n",
    "To solve this problem, I will need below data:\n",
    "\n",
    "1. List of neighborhoods in Toronto, Canada.\n",
    "2. Latitude and Longitude of these neighborhoods.\n",
    "3. Venue data related to Asian restaurants. This will help us find the neighborhoods that are most suitable to open a Burmese restaurant.\n",
    "\n",
    "### Extracting Data\n",
    "\n",
    "1. Scrapping of Toronto neighborhoods via Wikipedia\n",
    "2. Getting Latitude and Longitude data of these neighborhoods via Geocoder package\n",
    "3. Using Foursquare API to get venue data related to these neighborhoods"
   ]
  },
  {
   "cell_type": "code",
   "execution_count": null,
   "metadata": {},
   "outputs": [],
   "source": []
  }
 ],
 "metadata": {
  "kernelspec": {
   "display_name": "Python 3",
   "language": "python",
   "name": "python3"
  },
  "language_info": {
   "codemirror_mode": {
    "name": "ipython",
    "version": 3
   },
   "file_extension": ".py",
   "mimetype": "text/x-python",
   "name": "python",
   "nbconvert_exporter": "python",
   "pygments_lexer": "ipython3",
   "version": "3.7.6"
  }
 },
 "nbformat": 4,
 "nbformat_minor": 4
}
